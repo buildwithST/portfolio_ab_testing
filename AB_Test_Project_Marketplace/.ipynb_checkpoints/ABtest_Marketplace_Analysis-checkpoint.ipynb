{
 "cells": [
  {
   "cell_type": "markdown",
   "id": "403d3d72-739b-4ac3-8770-2e94708442e7",
   "metadata": {},
   "source": [
    "## 📦 Блок 0. Импорт библиотек\n",
    "\n",
    "На этом этапе мы подключаем основные библиотеки, необходимые для анализа:\n",
    "\n",
    "- `pandas` — для работы с таблицами\n",
    "- `numpy` — для математических расчётов\n",
    "- `matplotlib` и `seaborn` — для визуализации\n",
    "- `openpyxl` — для работы с Excel-файлами (.xlsx)\n",
    "\n",
    "Все библиотеки уже установлены в системе."
   ]
  },
  {
   "cell_type": "code",
   "execution_count": 193,
   "id": "3eb74ea1-202b-4899-9340-dc4ed353faf4",
   "metadata": {},
   "outputs": [],
   "source": [
    "import pandas as pd\n",
    "import numpy as np\n",
    "import matplotlib.pyplot as plt\n",
    "import seaborn as sns\n",
    "import plotly.graph_objects as go\n",
    "\n",
    "# Стили графиков\n",
    "plt.style.use(\"seaborn-v0_8-whitegrid\")\n",
    "sns.set_palette(\"Set2\")"
   ]
  },
  {
   "cell_type": "markdown",
   "id": "37e41cc9-45ce-4682-ba71-eebf7cbf03df",
   "metadata": {},
   "source": [
    "## 📊 Блок 1. Загрузка логов и построение таблицы воронки\n",
    "\n",
    "На этом этапе мы загружаем данные из большого лог-файла `data_raw.csv`, содержащего действия пользователей в маркетплейсе.\n",
    "\n",
    "### Что содержится в файле:\n",
    "- `client_id` — идентификатор пользователя\n",
    "- `dt` — дата события\n",
    "- `event_type` — тип события (`view`, `click`, `add`)\n",
    "\n",
    "Цель:\n",
    "1. Преобразовать сырые логи в **таблицу воронки**, где на каждую пару `client_id` + `dt` будет указано:\n",
    "   - `1`, если пользователь **смотрел** главную страницу (view)\n",
    "   - `1`, если **кликал** по рекламе (click)\n",
    "   - `1`, если **добавил товар** в корзину (add)\n",
    "\n",
    "2. Получим таблицу вида:\n",
    "\n",
    "| client_id | dt        | views | clicks | adds |\n",
    "|-----------|-----------|-------|--------|------|\n",
    "| 1001      |2024-06-20 | 1     | 1      | 0    |"
   ]
  },
  {
   "cell_type": "code",
   "execution_count": 195,
   "id": "e636503b-0f3e-48ed-a8d6-53293bcaefe9",
   "metadata": {},
   "outputs": [
    {
     "name": "stdout",
     "output_type": "stream",
     "text": [
      "Размер датафрейма: (27756048, 3)\n"
     ]
    },
    {
     "data": {
      "text/html": [
       "<div>\n",
       "<style scoped>\n",
       "    .dataframe tbody tr th:only-of-type {\n",
       "        vertical-align: middle;\n",
       "    }\n",
       "\n",
       "    .dataframe tbody tr th {\n",
       "        vertical-align: top;\n",
       "    }\n",
       "\n",
       "    .dataframe thead th {\n",
       "        text-align: right;\n",
       "    }\n",
       "</style>\n",
       "<table border=\"1\" class=\"dataframe\">\n",
       "  <thead>\n",
       "    <tr style=\"text-align: right;\">\n",
       "      <th></th>\n",
       "      <th>client_id</th>\n",
       "      <th>dt</th>\n",
       "      <th>event_type</th>\n",
       "    </tr>\n",
       "  </thead>\n",
       "  <tbody>\n",
       "    <tr>\n",
       "      <th>0</th>\n",
       "      <td>6095092</td>\n",
       "      <td>2024-06-20</td>\n",
       "      <td>clicks</td>\n",
       "    </tr>\n",
       "    <tr>\n",
       "      <th>1</th>\n",
       "      <td>541138559</td>\n",
       "      <td>2024-06-18</td>\n",
       "      <td>clicks</td>\n",
       "    </tr>\n",
       "    <tr>\n",
       "      <th>2</th>\n",
       "      <td>12189072</td>\n",
       "      <td>2024-06-20</td>\n",
       "      <td>clicks</td>\n",
       "    </tr>\n",
       "    <tr>\n",
       "      <th>3</th>\n",
       "      <td>674385020</td>\n",
       "      <td>2024-06-20</td>\n",
       "      <td>clicks</td>\n",
       "    </tr>\n",
       "    <tr>\n",
       "      <th>4</th>\n",
       "      <td>726939378</td>\n",
       "      <td>2024-06-20</td>\n",
       "      <td>clicks</td>\n",
       "    </tr>\n",
       "  </tbody>\n",
       "</table>\n",
       "</div>"
      ],
      "text/plain": [
       "   client_id         dt event_type\n",
       "0    6095092 2024-06-20     clicks\n",
       "1  541138559 2024-06-18     clicks\n",
       "2   12189072 2024-06-20     clicks\n",
       "3  674385020 2024-06-20     clicks\n",
       "4  726939378 2024-06-20     clicks"
      ]
     },
     "execution_count": 195,
     "metadata": {},
     "output_type": "execute_result"
    }
   ],
   "source": [
    "# 📥 Указываем путь к файлу (обнови под свою систему, если нужно)\n",
    "file_path = '/Users/sst/Documents/GitHub/portfolio_ab_testing/AB_Test_Project_Marketplace/data_raw.csv'\n",
    "\n",
    "# 🔄 Заранее указываем нужные столбцы и типы данных для ускорения чтения\n",
    "usecols = ['client_id', 'dt', 'event_type']\n",
    "dtypes = {\n",
    "    'client_id': 'int32',\n",
    "    'event_type': 'category'\n",
    "}\n",
    "\n",
    "# 📅 Загружаем лог и сразу преобразуем дату\n",
    "df = pd.read_csv(file_path, usecols=usecols, dtype=dtypes, parse_dates=['dt'])\n",
    "\n",
    "# 🔍 Проверим размер и первые строки\n",
    "print(f\"Размер датафрейма: {df.shape}\")\n",
    "df.head()"
   ]
  },
  {
   "cell_type": "markdown",
   "id": "1767b741-6486-4016-b76a-22a2162e7213",
   "metadata": {},
   "source": [
    "## 📊 Блок 2. Построение таблицы воронки по действиям пользователей\n",
    "\n",
    "На этом этапе мы агрегируем события по пользователям и датам.\n",
    "\n",
    "Цель:\n",
    "- Получить таблицу, в которой каждому `client_id` на дату `dt` соответствует информация:\n",
    "  - Был ли просмотр (`views`) — 1/0\n",
    "  - Был ли клик по рекламе (`clicks`) — 1/0\n",
    "  - Было ли добавление в корзину (`adds`) — 1/0\n",
    "\n",
    "Для этого:\n",
    "- Преобразуем `event_type` в индикаторы\n",
    "- Группируем по `client_id` и `dt`\n",
    "- Преобразуем счётчики в бинарные флаги (наличие действия)"
   ]
  },
  {
   "cell_type": "code",
   "execution_count": 197,
   "id": "c171ad06-77d5-4b1d-9276-6becf9afceee",
   "metadata": {},
   "outputs": [
    {
     "name": "stdout",
     "output_type": "stream",
     "text": [
      "Размер воронки (df_funnel): (15513680, 5)\n"
     ]
    },
    {
     "data": {
      "application/vnd.plotly.v1+json": {
       "config": {
        "plotlyServerURL": "https://plot.ly"
       },
       "data": [
        {
         "marker": {
          "color": [
           "#00cc96",
           "#ffa15a",
           "#636efa"
          ]
         },
         "textinfo": "value+percent initial+percent previous",
         "type": "funnel",
         "x": [
          3102735,
          228491,
          90438
         ],
         "y": [
          "Просмотры (views)",
          "Клики (clicks)",
          "Добавления (adds)"
         ]
        }
       ],
       "layout": {
        "height": 600,
        "margin": {
         "b": 40,
         "l": 80,
         "r": 40,
         "t": 80
        },
        "template": {
         "data": {
          "bar": [
           {
            "error_x": {
             "color": "#2a3f5f"
            },
            "error_y": {
             "color": "#2a3f5f"
            },
            "marker": {
             "line": {
              "color": "#E5ECF6",
              "width": 0.5
             },
             "pattern": {
              "fillmode": "overlay",
              "size": 10,
              "solidity": 0.2
             }
            },
            "type": "bar"
           }
          ],
          "barpolar": [
           {
            "marker": {
             "line": {
              "color": "#E5ECF6",
              "width": 0.5
             },
             "pattern": {
              "fillmode": "overlay",
              "size": 10,
              "solidity": 0.2
             }
            },
            "type": "barpolar"
           }
          ],
          "carpet": [
           {
            "aaxis": {
             "endlinecolor": "#2a3f5f",
             "gridcolor": "white",
             "linecolor": "white",
             "minorgridcolor": "white",
             "startlinecolor": "#2a3f5f"
            },
            "baxis": {
             "endlinecolor": "#2a3f5f",
             "gridcolor": "white",
             "linecolor": "white",
             "minorgridcolor": "white",
             "startlinecolor": "#2a3f5f"
            },
            "type": "carpet"
           }
          ],
          "choropleth": [
           {
            "colorbar": {
             "outlinewidth": 0,
             "ticks": ""
            },
            "type": "choropleth"
           }
          ],
          "contour": [
           {
            "colorbar": {
             "outlinewidth": 0,
             "ticks": ""
            },
            "colorscale": [
             [
              0,
              "#0d0887"
             ],
             [
              0.1111111111111111,
              "#46039f"
             ],
             [
              0.2222222222222222,
              "#7201a8"
             ],
             [
              0.3333333333333333,
              "#9c179e"
             ],
             [
              0.4444444444444444,
              "#bd3786"
             ],
             [
              0.5555555555555556,
              "#d8576b"
             ],
             [
              0.6666666666666666,
              "#ed7953"
             ],
             [
              0.7777777777777778,
              "#fb9f3a"
             ],
             [
              0.8888888888888888,
              "#fdca26"
             ],
             [
              1,
              "#f0f921"
             ]
            ],
            "type": "contour"
           }
          ],
          "contourcarpet": [
           {
            "colorbar": {
             "outlinewidth": 0,
             "ticks": ""
            },
            "type": "contourcarpet"
           }
          ],
          "heatmap": [
           {
            "colorbar": {
             "outlinewidth": 0,
             "ticks": ""
            },
            "colorscale": [
             [
              0,
              "#0d0887"
             ],
             [
              0.1111111111111111,
              "#46039f"
             ],
             [
              0.2222222222222222,
              "#7201a8"
             ],
             [
              0.3333333333333333,
              "#9c179e"
             ],
             [
              0.4444444444444444,
              "#bd3786"
             ],
             [
              0.5555555555555556,
              "#d8576b"
             ],
             [
              0.6666666666666666,
              "#ed7953"
             ],
             [
              0.7777777777777778,
              "#fb9f3a"
             ],
             [
              0.8888888888888888,
              "#fdca26"
             ],
             [
              1,
              "#f0f921"
             ]
            ],
            "type": "heatmap"
           }
          ],
          "heatmapgl": [
           {
            "colorbar": {
             "outlinewidth": 0,
             "ticks": ""
            },
            "colorscale": [
             [
              0,
              "#0d0887"
             ],
             [
              0.1111111111111111,
              "#46039f"
             ],
             [
              0.2222222222222222,
              "#7201a8"
             ],
             [
              0.3333333333333333,
              "#9c179e"
             ],
             [
              0.4444444444444444,
              "#bd3786"
             ],
             [
              0.5555555555555556,
              "#d8576b"
             ],
             [
              0.6666666666666666,
              "#ed7953"
             ],
             [
              0.7777777777777778,
              "#fb9f3a"
             ],
             [
              0.8888888888888888,
              "#fdca26"
             ],
             [
              1,
              "#f0f921"
             ]
            ],
            "type": "heatmapgl"
           }
          ],
          "histogram": [
           {
            "marker": {
             "pattern": {
              "fillmode": "overlay",
              "size": 10,
              "solidity": 0.2
             }
            },
            "type": "histogram"
           }
          ],
          "histogram2d": [
           {
            "colorbar": {
             "outlinewidth": 0,
             "ticks": ""
            },
            "colorscale": [
             [
              0,
              "#0d0887"
             ],
             [
              0.1111111111111111,
              "#46039f"
             ],
             [
              0.2222222222222222,
              "#7201a8"
             ],
             [
              0.3333333333333333,
              "#9c179e"
             ],
             [
              0.4444444444444444,
              "#bd3786"
             ],
             [
              0.5555555555555556,
              "#d8576b"
             ],
             [
              0.6666666666666666,
              "#ed7953"
             ],
             [
              0.7777777777777778,
              "#fb9f3a"
             ],
             [
              0.8888888888888888,
              "#fdca26"
             ],
             [
              1,
              "#f0f921"
             ]
            ],
            "type": "histogram2d"
           }
          ],
          "histogram2dcontour": [
           {
            "colorbar": {
             "outlinewidth": 0,
             "ticks": ""
            },
            "colorscale": [
             [
              0,
              "#0d0887"
             ],
             [
              0.1111111111111111,
              "#46039f"
             ],
             [
              0.2222222222222222,
              "#7201a8"
             ],
             [
              0.3333333333333333,
              "#9c179e"
             ],
             [
              0.4444444444444444,
              "#bd3786"
             ],
             [
              0.5555555555555556,
              "#d8576b"
             ],
             [
              0.6666666666666666,
              "#ed7953"
             ],
             [
              0.7777777777777778,
              "#fb9f3a"
             ],
             [
              0.8888888888888888,
              "#fdca26"
             ],
             [
              1,
              "#f0f921"
             ]
            ],
            "type": "histogram2dcontour"
           }
          ],
          "mesh3d": [
           {
            "colorbar": {
             "outlinewidth": 0,
             "ticks": ""
            },
            "type": "mesh3d"
           }
          ],
          "parcoords": [
           {
            "line": {
             "colorbar": {
              "outlinewidth": 0,
              "ticks": ""
             }
            },
            "type": "parcoords"
           }
          ],
          "pie": [
           {
            "automargin": true,
            "type": "pie"
           }
          ],
          "scatter": [
           {
            "fillpattern": {
             "fillmode": "overlay",
             "size": 10,
             "solidity": 0.2
            },
            "type": "scatter"
           }
          ],
          "scatter3d": [
           {
            "line": {
             "colorbar": {
              "outlinewidth": 0,
              "ticks": ""
             }
            },
            "marker": {
             "colorbar": {
              "outlinewidth": 0,
              "ticks": ""
             }
            },
            "type": "scatter3d"
           }
          ],
          "scattercarpet": [
           {
            "marker": {
             "colorbar": {
              "outlinewidth": 0,
              "ticks": ""
             }
            },
            "type": "scattercarpet"
           }
          ],
          "scattergeo": [
           {
            "marker": {
             "colorbar": {
              "outlinewidth": 0,
              "ticks": ""
             }
            },
            "type": "scattergeo"
           }
          ],
          "scattergl": [
           {
            "marker": {
             "colorbar": {
              "outlinewidth": 0,
              "ticks": ""
             }
            },
            "type": "scattergl"
           }
          ],
          "scattermapbox": [
           {
            "marker": {
             "colorbar": {
              "outlinewidth": 0,
              "ticks": ""
             }
            },
            "type": "scattermapbox"
           }
          ],
          "scatterpolar": [
           {
            "marker": {
             "colorbar": {
              "outlinewidth": 0,
              "ticks": ""
             }
            },
            "type": "scatterpolar"
           }
          ],
          "scatterpolargl": [
           {
            "marker": {
             "colorbar": {
              "outlinewidth": 0,
              "ticks": ""
             }
            },
            "type": "scatterpolargl"
           }
          ],
          "scatterternary": [
           {
            "marker": {
             "colorbar": {
              "outlinewidth": 0,
              "ticks": ""
             }
            },
            "type": "scatterternary"
           }
          ],
          "surface": [
           {
            "colorbar": {
             "outlinewidth": 0,
             "ticks": ""
            },
            "colorscale": [
             [
              0,
              "#0d0887"
             ],
             [
              0.1111111111111111,
              "#46039f"
             ],
             [
              0.2222222222222222,
              "#7201a8"
             ],
             [
              0.3333333333333333,
              "#9c179e"
             ],
             [
              0.4444444444444444,
              "#bd3786"
             ],
             [
              0.5555555555555556,
              "#d8576b"
             ],
             [
              0.6666666666666666,
              "#ed7953"
             ],
             [
              0.7777777777777778,
              "#fb9f3a"
             ],
             [
              0.8888888888888888,
              "#fdca26"
             ],
             [
              1,
              "#f0f921"
             ]
            ],
            "type": "surface"
           }
          ],
          "table": [
           {
            "cells": {
             "fill": {
              "color": "#EBF0F8"
             },
             "line": {
              "color": "white"
             }
            },
            "header": {
             "fill": {
              "color": "#C8D4E3"
             },
             "line": {
              "color": "white"
             }
            },
            "type": "table"
           }
          ]
         },
         "layout": {
          "annotationdefaults": {
           "arrowcolor": "#2a3f5f",
           "arrowhead": 0,
           "arrowwidth": 1
          },
          "autotypenumbers": "strict",
          "coloraxis": {
           "colorbar": {
            "outlinewidth": 0,
            "ticks": ""
           }
          },
          "colorscale": {
           "diverging": [
            [
             0,
             "#8e0152"
            ],
            [
             0.1,
             "#c51b7d"
            ],
            [
             0.2,
             "#de77ae"
            ],
            [
             0.3,
             "#f1b6da"
            ],
            [
             0.4,
             "#fde0ef"
            ],
            [
             0.5,
             "#f7f7f7"
            ],
            [
             0.6,
             "#e6f5d0"
            ],
            [
             0.7,
             "#b8e186"
            ],
            [
             0.8,
             "#7fbc41"
            ],
            [
             0.9,
             "#4d9221"
            ],
            [
             1,
             "#276419"
            ]
           ],
           "sequential": [
            [
             0,
             "#0d0887"
            ],
            [
             0.1111111111111111,
             "#46039f"
            ],
            [
             0.2222222222222222,
             "#7201a8"
            ],
            [
             0.3333333333333333,
             "#9c179e"
            ],
            [
             0.4444444444444444,
             "#bd3786"
            ],
            [
             0.5555555555555556,
             "#d8576b"
            ],
            [
             0.6666666666666666,
             "#ed7953"
            ],
            [
             0.7777777777777778,
             "#fb9f3a"
            ],
            [
             0.8888888888888888,
             "#fdca26"
            ],
            [
             1,
             "#f0f921"
            ]
           ],
           "sequentialminus": [
            [
             0,
             "#0d0887"
            ],
            [
             0.1111111111111111,
             "#46039f"
            ],
            [
             0.2222222222222222,
             "#7201a8"
            ],
            [
             0.3333333333333333,
             "#9c179e"
            ],
            [
             0.4444444444444444,
             "#bd3786"
            ],
            [
             0.5555555555555556,
             "#d8576b"
            ],
            [
             0.6666666666666666,
             "#ed7953"
            ],
            [
             0.7777777777777778,
             "#fb9f3a"
            ],
            [
             0.8888888888888888,
             "#fdca26"
            ],
            [
             1,
             "#f0f921"
            ]
           ]
          },
          "colorway": [
           "#636efa",
           "#EF553B",
           "#00cc96",
           "#ab63fa",
           "#FFA15A",
           "#19d3f3",
           "#FF6692",
           "#B6E880",
           "#FF97FF",
           "#FECB52"
          ],
          "font": {
           "color": "#2a3f5f"
          },
          "geo": {
           "bgcolor": "white",
           "lakecolor": "white",
           "landcolor": "#E5ECF6",
           "showlakes": true,
           "showland": true,
           "subunitcolor": "white"
          },
          "hoverlabel": {
           "align": "left"
          },
          "hovermode": "closest",
          "mapbox": {
           "style": "light"
          },
          "paper_bgcolor": "white",
          "plot_bgcolor": "#E5ECF6",
          "polar": {
           "angularaxis": {
            "gridcolor": "white",
            "linecolor": "white",
            "ticks": ""
           },
           "bgcolor": "#E5ECF6",
           "radialaxis": {
            "gridcolor": "white",
            "linecolor": "white",
            "ticks": ""
           }
          },
          "scene": {
           "xaxis": {
            "backgroundcolor": "#E5ECF6",
            "gridcolor": "white",
            "gridwidth": 2,
            "linecolor": "white",
            "showbackground": true,
            "ticks": "",
            "zerolinecolor": "white"
           },
           "yaxis": {
            "backgroundcolor": "#E5ECF6",
            "gridcolor": "white",
            "gridwidth": 2,
            "linecolor": "white",
            "showbackground": true,
            "ticks": "",
            "zerolinecolor": "white"
           },
           "zaxis": {
            "backgroundcolor": "#E5ECF6",
            "gridcolor": "white",
            "gridwidth": 2,
            "linecolor": "white",
            "showbackground": true,
            "ticks": "",
            "zerolinecolor": "white"
           }
          },
          "shapedefaults": {
           "line": {
            "color": "#2a3f5f"
           }
          },
          "ternary": {
           "aaxis": {
            "gridcolor": "white",
            "linecolor": "white",
            "ticks": ""
           },
           "baxis": {
            "gridcolor": "white",
            "linecolor": "white",
            "ticks": ""
           },
           "bgcolor": "#E5ECF6",
           "caxis": {
            "gridcolor": "white",
            "linecolor": "white",
            "ticks": ""
           }
          },
          "title": {
           "x": 0.05
          },
          "xaxis": {
           "automargin": true,
           "gridcolor": "white",
           "linecolor": "white",
           "ticks": "",
           "title": {
            "standoff": 15
           },
           "zerolinecolor": "white",
           "zerolinewidth": 2
          },
          "yaxis": {
           "automargin": true,
           "gridcolor": "white",
           "linecolor": "white",
           "ticks": "",
           "title": {
            "standoff": 15
           },
           "zerolinecolor": "white",
           "zerolinewidth": 2
          }
         }
        },
        "title": {
         "text": "Воронка: Просмотры → Клики → Добавления"
        },
        "width": 900,
        "xaxis": {
         "autorange": true,
         "range": [
          -1723741.6666666667,
          1723741.6666666667
         ],
         "type": "linear"
        },
        "yaxis": {
         "autorange": true,
         "range": [
          2.5,
          -0.5
         ],
         "type": "category"
        }
       }
      },
      "text/html": [
       "<div>                            <div id=\"3119b793-45f2-420f-8a40-22354c014177\" class=\"plotly-graph-div\" style=\"height:600px; width:900px;\"></div>            <script type=\"text/javascript\">                require([\"plotly\"], function(Plotly) {                    window.PLOTLYENV=window.PLOTLYENV || {};                                    if (document.getElementById(\"3119b793-45f2-420f-8a40-22354c014177\")) {                    Plotly.newPlot(                        \"3119b793-45f2-420f-8a40-22354c014177\",                        [{\"marker\":{\"color\":[\"#00cc96\",\"#ffa15a\",\"#636efa\"]},\"textinfo\":\"value+percent initial+percent previous\",\"x\":[3102735,228491,90438],\"y\":[\"\\u041f\\u0440\\u043e\\u0441\\u043c\\u043e\\u0442\\u0440\\u044b (views)\",\"\\u041a\\u043b\\u0438\\u043a\\u0438 (clicks)\",\"\\u0414\\u043e\\u0431\\u0430\\u0432\\u043b\\u0435\\u043d\\u0438\\u044f (adds)\"],\"type\":\"funnel\"}],                        {\"template\":{\"data\":{\"histogram2dcontour\":[{\"type\":\"histogram2dcontour\",\"colorbar\":{\"outlinewidth\":0,\"ticks\":\"\"},\"colorscale\":[[0.0,\"#0d0887\"],[0.1111111111111111,\"#46039f\"],[0.2222222222222222,\"#7201a8\"],[0.3333333333333333,\"#9c179e\"],[0.4444444444444444,\"#bd3786\"],[0.5555555555555556,\"#d8576b\"],[0.6666666666666666,\"#ed7953\"],[0.7777777777777778,\"#fb9f3a\"],[0.8888888888888888,\"#fdca26\"],[1.0,\"#f0f921\"]]}],\"choropleth\":[{\"type\":\"choropleth\",\"colorbar\":{\"outlinewidth\":0,\"ticks\":\"\"}}],\"histogram2d\":[{\"type\":\"histogram2d\",\"colorbar\":{\"outlinewidth\":0,\"ticks\":\"\"},\"colorscale\":[[0.0,\"#0d0887\"],[0.1111111111111111,\"#46039f\"],[0.2222222222222222,\"#7201a8\"],[0.3333333333333333,\"#9c179e\"],[0.4444444444444444,\"#bd3786\"],[0.5555555555555556,\"#d8576b\"],[0.6666666666666666,\"#ed7953\"],[0.7777777777777778,\"#fb9f3a\"],[0.8888888888888888,\"#fdca26\"],[1.0,\"#f0f921\"]]}],\"heatmap\":[{\"type\":\"heatmap\",\"colorbar\":{\"outlinewidth\":0,\"ticks\":\"\"},\"colorscale\":[[0.0,\"#0d0887\"],[0.1111111111111111,\"#46039f\"],[0.2222222222222222,\"#7201a8\"],[0.3333333333333333,\"#9c179e\"],[0.4444444444444444,\"#bd3786\"],[0.5555555555555556,\"#d8576b\"],[0.6666666666666666,\"#ed7953\"],[0.7777777777777778,\"#fb9f3a\"],[0.8888888888888888,\"#fdca26\"],[1.0,\"#f0f921\"]]}],\"heatmapgl\":[{\"type\":\"heatmapgl\",\"colorbar\":{\"outlinewidth\":0,\"ticks\":\"\"},\"colorscale\":[[0.0,\"#0d0887\"],[0.1111111111111111,\"#46039f\"],[0.2222222222222222,\"#7201a8\"],[0.3333333333333333,\"#9c179e\"],[0.4444444444444444,\"#bd3786\"],[0.5555555555555556,\"#d8576b\"],[0.6666666666666666,\"#ed7953\"],[0.7777777777777778,\"#fb9f3a\"],[0.8888888888888888,\"#fdca26\"],[1.0,\"#f0f921\"]]}],\"contourcarpet\":[{\"type\":\"contourcarpet\",\"colorbar\":{\"outlinewidth\":0,\"ticks\":\"\"}}],\"contour\":[{\"type\":\"contour\",\"colorbar\":{\"outlinewidth\":0,\"ticks\":\"\"},\"colorscale\":[[0.0,\"#0d0887\"],[0.1111111111111111,\"#46039f\"],[0.2222222222222222,\"#7201a8\"],[0.3333333333333333,\"#9c179e\"],[0.4444444444444444,\"#bd3786\"],[0.5555555555555556,\"#d8576b\"],[0.6666666666666666,\"#ed7953\"],[0.7777777777777778,\"#fb9f3a\"],[0.8888888888888888,\"#fdca26\"],[1.0,\"#f0f921\"]]}],\"surface\":[{\"type\":\"surface\",\"colorbar\":{\"outlinewidth\":0,\"ticks\":\"\"},\"colorscale\":[[0.0,\"#0d0887\"],[0.1111111111111111,\"#46039f\"],[0.2222222222222222,\"#7201a8\"],[0.3333333333333333,\"#9c179e\"],[0.4444444444444444,\"#bd3786\"],[0.5555555555555556,\"#d8576b\"],[0.6666666666666666,\"#ed7953\"],[0.7777777777777778,\"#fb9f3a\"],[0.8888888888888888,\"#fdca26\"],[1.0,\"#f0f921\"]]}],\"mesh3d\":[{\"type\":\"mesh3d\",\"colorbar\":{\"outlinewidth\":0,\"ticks\":\"\"}}],\"scatter\":[{\"fillpattern\":{\"fillmode\":\"overlay\",\"size\":10,\"solidity\":0.2},\"type\":\"scatter\"}],\"parcoords\":[{\"type\":\"parcoords\",\"line\":{\"colorbar\":{\"outlinewidth\":0,\"ticks\":\"\"}}}],\"scatterpolargl\":[{\"type\":\"scatterpolargl\",\"marker\":{\"colorbar\":{\"outlinewidth\":0,\"ticks\":\"\"}}}],\"bar\":[{\"error_x\":{\"color\":\"#2a3f5f\"},\"error_y\":{\"color\":\"#2a3f5f\"},\"marker\":{\"line\":{\"color\":\"#E5ECF6\",\"width\":0.5},\"pattern\":{\"fillmode\":\"overlay\",\"size\":10,\"solidity\":0.2}},\"type\":\"bar\"}],\"scattergeo\":[{\"type\":\"scattergeo\",\"marker\":{\"colorbar\":{\"outlinewidth\":0,\"ticks\":\"\"}}}],\"scatterpolar\":[{\"type\":\"scatterpolar\",\"marker\":{\"colorbar\":{\"outlinewidth\":0,\"ticks\":\"\"}}}],\"histogram\":[{\"marker\":{\"pattern\":{\"fillmode\":\"overlay\",\"size\":10,\"solidity\":0.2}},\"type\":\"histogram\"}],\"scattergl\":[{\"type\":\"scattergl\",\"marker\":{\"colorbar\":{\"outlinewidth\":0,\"ticks\":\"\"}}}],\"scatter3d\":[{\"type\":\"scatter3d\",\"line\":{\"colorbar\":{\"outlinewidth\":0,\"ticks\":\"\"}},\"marker\":{\"colorbar\":{\"outlinewidth\":0,\"ticks\":\"\"}}}],\"scattermapbox\":[{\"type\":\"scattermapbox\",\"marker\":{\"colorbar\":{\"outlinewidth\":0,\"ticks\":\"\"}}}],\"scatterternary\":[{\"type\":\"scatterternary\",\"marker\":{\"colorbar\":{\"outlinewidth\":0,\"ticks\":\"\"}}}],\"scattercarpet\":[{\"type\":\"scattercarpet\",\"marker\":{\"colorbar\":{\"outlinewidth\":0,\"ticks\":\"\"}}}],\"carpet\":[{\"aaxis\":{\"endlinecolor\":\"#2a3f5f\",\"gridcolor\":\"white\",\"linecolor\":\"white\",\"minorgridcolor\":\"white\",\"startlinecolor\":\"#2a3f5f\"},\"baxis\":{\"endlinecolor\":\"#2a3f5f\",\"gridcolor\":\"white\",\"linecolor\":\"white\",\"minorgridcolor\":\"white\",\"startlinecolor\":\"#2a3f5f\"},\"type\":\"carpet\"}],\"table\":[{\"cells\":{\"fill\":{\"color\":\"#EBF0F8\"},\"line\":{\"color\":\"white\"}},\"header\":{\"fill\":{\"color\":\"#C8D4E3\"},\"line\":{\"color\":\"white\"}},\"type\":\"table\"}],\"barpolar\":[{\"marker\":{\"line\":{\"color\":\"#E5ECF6\",\"width\":0.5},\"pattern\":{\"fillmode\":\"overlay\",\"size\":10,\"solidity\":0.2}},\"type\":\"barpolar\"}],\"pie\":[{\"automargin\":true,\"type\":\"pie\"}]},\"layout\":{\"autotypenumbers\":\"strict\",\"colorway\":[\"#636efa\",\"#EF553B\",\"#00cc96\",\"#ab63fa\",\"#FFA15A\",\"#19d3f3\",\"#FF6692\",\"#B6E880\",\"#FF97FF\",\"#FECB52\"],\"font\":{\"color\":\"#2a3f5f\"},\"hovermode\":\"closest\",\"hoverlabel\":{\"align\":\"left\"},\"paper_bgcolor\":\"white\",\"plot_bgcolor\":\"#E5ECF6\",\"polar\":{\"bgcolor\":\"#E5ECF6\",\"angularaxis\":{\"gridcolor\":\"white\",\"linecolor\":\"white\",\"ticks\":\"\"},\"radialaxis\":{\"gridcolor\":\"white\",\"linecolor\":\"white\",\"ticks\":\"\"}},\"ternary\":{\"bgcolor\":\"#E5ECF6\",\"aaxis\":{\"gridcolor\":\"white\",\"linecolor\":\"white\",\"ticks\":\"\"},\"baxis\":{\"gridcolor\":\"white\",\"linecolor\":\"white\",\"ticks\":\"\"},\"caxis\":{\"gridcolor\":\"white\",\"linecolor\":\"white\",\"ticks\":\"\"}},\"coloraxis\":{\"colorbar\":{\"outlinewidth\":0,\"ticks\":\"\"}},\"colorscale\":{\"sequential\":[[0.0,\"#0d0887\"],[0.1111111111111111,\"#46039f\"],[0.2222222222222222,\"#7201a8\"],[0.3333333333333333,\"#9c179e\"],[0.4444444444444444,\"#bd3786\"],[0.5555555555555556,\"#d8576b\"],[0.6666666666666666,\"#ed7953\"],[0.7777777777777778,\"#fb9f3a\"],[0.8888888888888888,\"#fdca26\"],[1.0,\"#f0f921\"]],\"sequentialminus\":[[0.0,\"#0d0887\"],[0.1111111111111111,\"#46039f\"],[0.2222222222222222,\"#7201a8\"],[0.3333333333333333,\"#9c179e\"],[0.4444444444444444,\"#bd3786\"],[0.5555555555555556,\"#d8576b\"],[0.6666666666666666,\"#ed7953\"],[0.7777777777777778,\"#fb9f3a\"],[0.8888888888888888,\"#fdca26\"],[1.0,\"#f0f921\"]],\"diverging\":[[0,\"#8e0152\"],[0.1,\"#c51b7d\"],[0.2,\"#de77ae\"],[0.3,\"#f1b6da\"],[0.4,\"#fde0ef\"],[0.5,\"#f7f7f7\"],[0.6,\"#e6f5d0\"],[0.7,\"#b8e186\"],[0.8,\"#7fbc41\"],[0.9,\"#4d9221\"],[1,\"#276419\"]]},\"xaxis\":{\"gridcolor\":\"white\",\"linecolor\":\"white\",\"ticks\":\"\",\"title\":{\"standoff\":15},\"zerolinecolor\":\"white\",\"automargin\":true,\"zerolinewidth\":2},\"yaxis\":{\"gridcolor\":\"white\",\"linecolor\":\"white\",\"ticks\":\"\",\"title\":{\"standoff\":15},\"zerolinecolor\":\"white\",\"automargin\":true,\"zerolinewidth\":2},\"scene\":{\"xaxis\":{\"backgroundcolor\":\"#E5ECF6\",\"gridcolor\":\"white\",\"linecolor\":\"white\",\"showbackground\":true,\"ticks\":\"\",\"zerolinecolor\":\"white\",\"gridwidth\":2},\"yaxis\":{\"backgroundcolor\":\"#E5ECF6\",\"gridcolor\":\"white\",\"linecolor\":\"white\",\"showbackground\":true,\"ticks\":\"\",\"zerolinecolor\":\"white\",\"gridwidth\":2},\"zaxis\":{\"backgroundcolor\":\"#E5ECF6\",\"gridcolor\":\"white\",\"linecolor\":\"white\",\"showbackground\":true,\"ticks\":\"\",\"zerolinecolor\":\"white\",\"gridwidth\":2}},\"shapedefaults\":{\"line\":{\"color\":\"#2a3f5f\"}},\"annotationdefaults\":{\"arrowcolor\":\"#2a3f5f\",\"arrowhead\":0,\"arrowwidth\":1},\"geo\":{\"bgcolor\":\"white\",\"landcolor\":\"#E5ECF6\",\"subunitcolor\":\"white\",\"showland\":true,\"showlakes\":true,\"lakecolor\":\"white\"},\"title\":{\"x\":0.05},\"mapbox\":{\"style\":\"light\"}}},\"margin\":{\"l\":80,\"r\":40,\"t\":80,\"b\":40},\"title\":{\"text\":\"\\u0412\\u043e\\u0440\\u043e\\u043d\\u043a\\u0430: \\u041f\\u0440\\u043e\\u0441\\u043c\\u043e\\u0442\\u0440\\u044b \\u2192 \\u041a\\u043b\\u0438\\u043a\\u0438 \\u2192 \\u0414\\u043e\\u0431\\u0430\\u0432\\u043b\\u0435\\u043d\\u0438\\u044f\"},\"width\":900,\"height\":600},                        {\"responsive\": true}                    ).then(function(){\n",
       "                            \n",
       "var gd = document.getElementById('3119b793-45f2-420f-8a40-22354c014177');\n",
       "var x = new MutationObserver(function (mutations, observer) {{\n",
       "        var display = window.getComputedStyle(gd).display;\n",
       "        if (!display || display === 'none') {{\n",
       "            console.log([gd, 'removed!']);\n",
       "            Plotly.purge(gd);\n",
       "            observer.disconnect();\n",
       "        }}\n",
       "}});\n",
       "\n",
       "// Listen for the removal of the full notebook cells\n",
       "var notebookContainer = gd.closest('#notebook-container');\n",
       "if (notebookContainer) {{\n",
       "    x.observe(notebookContainer, {childList: true});\n",
       "}}\n",
       "\n",
       "// Listen for the clearing of the current output cell\n",
       "var outputEl = gd.closest('.output');\n",
       "if (outputEl) {{\n",
       "    x.observe(outputEl, {childList: true});\n",
       "}}\n",
       "\n",
       "                        })                };                });            </script>        </div>"
      ]
     },
     "metadata": {},
     "output_type": "display_data"
    },
    {
     "name": "stdout",
     "output_type": "stream",
     "text": [
      "Всего на первом шаге (views): 3 102 735\n",
      "CTR (clicks / views): 7.36%\n",
      "CR  (adds  / clicks): 39.58%\n"
     ]
    }
   ],
   "source": [
    "# 📊 Блок 2. Воронка: подготовка + график (Plotly)\n",
    "\n",
    "# --- 2.1 Подготовка данных для воронки -----------------------------\n",
    "\n",
    "# ОЖИДАНИЕ: в окружении уже есть \"df\" с колонками как минимум:\n",
    "# ['client_id', 'dt', 'event_type'] где event_type ∈ {'view','click','add'}\n",
    "\n",
    "# 1) Сводная таблица по типам событий: client_id × dt\n",
    "df_funnel = df.pivot_table(\n",
    "    index=['client_id', 'dt'],\n",
    "    columns='event_type',\n",
    "    aggfunc='size',\n",
    "    fill_value=0,\n",
    "    observed=False  # 🔧 подавляем FutureWarning о смене дефолта\n",
    ").reset_index()\n",
    "\n",
    "# 2) Переименуем столбцы в единый формат\n",
    "df_funnel.columns.name = None\n",
    "df_funnel = df_funnel.rename(columns={\n",
    "    'view': 'views',\n",
    "    'click': 'clicks',\n",
    "    'add': 'adds'\n",
    "})\n",
    "\n",
    "# 3) Преобразуем счетчики в бинарные флаги \"было действие в день / не было\"\n",
    "for col in ['views', 'clicks', 'adds']:\n",
    "    if col in df_funnel.columns:\n",
    "        df_funnel[col] = (df_funnel[col] > 0).astype(int)\n",
    "    else:\n",
    "        # Если какого-то типа событий не было в логах, создаём столбец с нулями\n",
    "        df_funnel[col] = 0\n",
    "\n",
    "print(f\"Размер воронки (df_funnel): {df_funnel.shape}\")\n",
    "# display(df_funnel.head())\n",
    "\n",
    "# 4) Доводим до уровня пользователя за период (факт наличия шага хотя бы в один день)\n",
    "df_funnel_user = (\n",
    "    df_funnel\n",
    "    .groupby('client_id', as_index=False)[['views', 'clicks', 'adds']]\n",
    "    .max()\n",
    ")\n",
    "\n",
    "# 5) Подсчёт объёмов на каждом этапе\n",
    "views_cnt  = int(df_funnel_user['views'].sum())\n",
    "clicks_cnt = int(df_funnel_user['clicks'].sum())\n",
    "adds_cnt   = int(df_funnel_user['adds'].sum())\n",
    "\n",
    "# 6) Готовим Series для воронки в нужном порядке\n",
    "stage_counts = pd.Series(\n",
    "    [views_cnt, clicks_cnt, adds_cnt],\n",
    "    index=['Просмотры (views)', 'Клики (clicks)', 'Добавления (adds)']\n",
    ")\n",
    "\n",
    "# --- 2.2 Графическое отображение воронки (Plotly) ------------------\n",
    "\n",
    "fig = go.Figure(go.Funnel(\n",
    "    y = stage_counts.index.tolist(),\n",
    "    x = stage_counts.values.tolist(),\n",
    "    textinfo = \"value+percent initial+percent previous\",\n",
    "    marker = dict(color=[\"#00cc96\", \"#ffa15a\", \"#636efa\"])\n",
    "))\n",
    "\n",
    "fig.update_layout(\n",
    "    title=\"Воронка: Просмотры → Клики → Добавления\",\n",
    "    width=900, height=600,\n",
    "    margin=dict(l=80, r=40, t=80, b=40)\n",
    ")\n",
    "\n",
    "# Показать в интерактиве\n",
    "fig.show()\n",
    "\n",
    "\n",
    "# --- 2.3 Быстрые метрики для подписи на слайде ---------------------\n",
    "ctr = (clicks_cnt / views_cnt * 100) if views_cnt else 0.0     # clicks / views\n",
    "cr  = (adds_cnt   / clicks_cnt * 100) if clicks_cnt else 0.0   # adds / clicks\n",
    "\n",
    "print(f\"Всего на первом шаге (views): {views_cnt:,}\".replace(',', ' '))\n",
    "print(f\"CTR (clicks / views): {ctr:.2f}%\")\n",
    "print(f\"CR  (adds  / clicks): {cr:.2f}%\")"
   ]
  },
  {
   "cell_type": "markdown",
   "id": "466a130e-a27f-4180-97fa-2cf418e9d3e1",
   "metadata": {},
   "source": [
    "## 📈 Блок 3. Распределения CTR и CR — фильтрация и оси\n",
    "\n",
    "На этом этапе мы анализируем, как ведут себя пользователи в рамках воронки: от просмотра рекламы до добавления товара.\n",
    "\n",
    "---\n",
    "\n",
    "### 🎯 Цель:\n",
    "1. Рассчитать ключевые метрики:\n",
    "   - **CTR (clicks / views)** — показатель кликабельности рекламы\n",
    "   - **CR  (adds / clicks)** — показатель эффективности рекламы (добавление в корзину после клика)\n",
    "2. Построить их **распределения по всем пользователям**\n",
    "3. Очистить данные от `inf`, `NaN`, и **визуально оценить форму распределения**\n",
    "\n",
    "---\n",
    "\n",
    "### 🧼 Что делаем:\n",
    "- CTR считаем **только для пользователей с `views > 0`**\n",
    "- CR считаем **только для пользователей с `clicks > 0`**\n",
    "- Удаляем бесконечности и пропуски\n",
    "- Ограничиваем оси от `0` до `1`, чтобы исключить редкие выбросы\n",
    "\n",
    "---\n",
    "\n",
    "### 📊 Как читать графики:\n",
    "\n",
    "- **Столбцы (гистограмма)** — показывают, **сколько пользователей** попало в каждый диапазон метрики\n",
    "- **Линия (kde)** — показывает **структуру и форму распределения** (где больше всего значений, где хвосты и пики)\n",
    "\n",
    "Использование **обоих типов графиков** помогает:\n",
    "- С одной стороны — понять **количественное распределение**\n",
    "- С другой — оценить **плотность и смещённость** данных\n",
    "\n",
    "---"
   ]
  },
  {
   "cell_type": "code",
   "execution_count": 199,
   "id": "9eb159ea-e6df-4b17-8c8a-8b00a56b0a8d",
   "metadata": {},
   "outputs": [
    {
     "data": {
      "image/png": "[encoded data removed]",
      "text/plain": [
       "<Figure size 1400x500 with 2 Axes>"
      ]
     },
     "metadata": {},
     "output_type": "display_data"
    },
    {
     "name": "stdout",
     "output_type": "stream",
     "text": [
      "Средний CTR: 0.4586\n",
      "Средний CR : 0.4443\n"
     ]
    }
   ],
   "source": [
    "# 🎯 Группируем по пользователям\n",
    "df_user = df_funnel.groupby('client_id')[['views', 'clicks', 'adds']].sum().reset_index()\n",
    "\n",
    "# 📌 Считаем только там, где знаменатель > 0\n",
    "df_user['CTR'] = np.where(df_user['views'] > 0, df_user['clicks'] / df_user['views'], np.nan)\n",
    "df_user['CR']  = np.where(df_user['clicks'] > 0, df_user['adds'] / df_user['clicks'], np.nan)\n",
    "\n",
    "# 🧼 Убираем бесконечности и NaN\n",
    "df_user = df_user.replace([np.inf, -np.inf], np.nan).dropna(subset=['CTR', 'CR'])\n",
    "\n",
    "# 🎨 Построим графики с ограничением осей (для наглядности)\n",
    "plt.figure(figsize=(14, 5))\n",
    "\n",
    "# CTR\n",
    "plt.subplot(1, 2, 1)\n",
    "sns.histplot(df_user['CTR'], bins=100, kde=True)\n",
    "plt.xlim(0, 1)  # Ограничим до 100%\n",
    "plt.title('CTR (clicks / views)')\n",
    "plt.xlabel('CTR')\n",
    "plt.ylabel('Количество пользователей')\n",
    "\n",
    "# CR\n",
    "plt.subplot(1, 2, 2)\n",
    "sns.histplot(df_user['CR'], bins=100, kde=True, color='orange')\n",
    "plt.xlim(0, 1)\n",
    "plt.title('CR (adds / clicks)')\n",
    "plt.xlabel('CR')\n",
    "plt.ylabel('Количество пользователей')\n",
    "\n",
    "plt.tight_layout()\n",
    "plt.show()\n",
    "\n",
    "# 📈 Средние значения\n",
    "ctr_mean = df_user['CTR'].mean()\n",
    "cr_mean = df_user['CR'].mean()\n",
    "print(f'Средний CTR: {ctr_mean:.4f}')\n",
    "print(f'Средний CR : {cr_mean:.4f}')"
   ]
  },
  {
   "cell_type": "markdown",
   "id": "e1a1f4b6-87d7-4461-ad8c-b7c5c4e4037d",
   "metadata": {},
   "source": [
    "## 📏 Блок 4. Расчёт MDE и необходимого размера выборки\n",
    "\n",
    "---\n",
    "\n",
    "### 🔍 Что такое MDE (Minimum Detectable Effect)?\n",
    "**MDE** — это **минимальный размер эффекта**, который мы хотим быть уверены, что сможем обнаружить статистически.\n",
    "\n",
    "Пример:\n",
    "- Допустим, сейчас CR = 0.44\n",
    "- Мы хотим проверить, увеличится ли CR хотя бы на +2.5% (абсолютных пунктов) → это и есть MDE = 0.025\n",
    "\n",
    "---\n",
    "\n",
    "### 📐 Цель этого блока:\n",
    "1. Посчитать **дисперсию** для ratio-метрики (например, CR = adds / clicks)\n",
    "2. Использовать дельта-метод, чтобы корректно учесть соотношение\n",
    "3. Вычислить MDE с учётом:\n",
    "   - Текущего среднего значения метрики\n",
    "   - Стандартного отклонения\n",
    "   - Размеров выборки\n",
    "   - Заданного уровня значимости (`alpha = 0.05`) и мощности (`beta = 0.2`)\n",
    "\n",
    "---"
   ]
  },
  {
   "cell_type": "markdown",
   "id": "df6ad89f-356d-4422-8c8c-8201608fba52",
   "metadata": {},
   "source": [
    "### Код: расчёта дисперсии (дельта-метод)"
   ]
  },
  {
   "cell_type": "code",
   "execution_count": 202,
   "id": "c3a9ff2b-45c7-4fe6-b6b4-14c71800dc4d",
   "metadata": {},
   "outputs": [],
   "source": [
    "# 📐 Функция для расчёта дисперсии ratio-метрики: var(x/y)\n",
    "def var_ratio(x, y):\n",
    "    mean_x = np.mean(x)\n",
    "    mean_y = np.mean(y)\n",
    "    var_x = np.var(x, ddof=1)\n",
    "    var_y = np.var(y, ddof=1)\n",
    "    cov_xy = np.cov(x, y, ddof=1)[0][1]\n",
    "    \n",
    "    # Формула дельта-метода\n",
    "    result = (var_x / mean_y**2) + (var_y * mean_x**2 / mean_y**4) - (2 * mean_x * cov_xy / mean_y**3)\n",
    "    return result"
   ]
  },
  {
   "cell_type": "markdown",
   "id": "15caaa4a-c9ef-40dc-a57f-1429c832dbd1",
   "metadata": {},
   "source": [
    "### Код: подготовка данных для расчёта дисперсии (для метрики CR = adds / clicks)"
   ]
  },
  {
   "cell_type": "code",
   "execution_count": 204,
   "id": "7867c938-f363-4aa2-817a-d713ae64e204",
   "metadata": {},
   "outputs": [
    {
     "name": "stdout",
     "output_type": "stream",
     "text": [
      "Среднее значение CR: 0.9483\n",
      "Дисперсия CR (дельта-метод): 0.324834\n"
     ]
    }
   ],
   "source": [
    "# ⚠️ Только пользователи, у кого было хотя бы одно добавление и хотя бы один клик\n",
    "df_valid_cr = df_user[(df_user['clicks'] > 0) & (df_user['adds'] > 0)]\n",
    "\n",
    "# 📉 Расчёт дисперсии метрики CR = adds / clicks\n",
    "cr_variance = var_ratio(df_valid_cr['adds'], df_valid_cr['clicks'])\n",
    "\n",
    "# 📊 Среднее значение CR по этим пользователям\n",
    "cr_mean = df_valid_cr['adds'].sum() / df_valid_cr['clicks'].sum()\n",
    "\n",
    "print(f'Среднее значение CR: {cr_mean:.4f}')\n",
    "print(f'Дисперсия CR (дельта-метод): {cr_variance:.6f}')"
   ]
  },
  {
   "cell_type": "markdown",
   "id": "a8c128ba-c01d-4d77-9632-3ee78a45af4c",
   "metadata": {},
   "source": [
    "## 🧮 Блок 5. Расчёт минимально различимого эффекта (MDE)\n",
    "\n",
    "На этом этапе мы используем ранее рассчитанные:\n",
    "- Среднее значение метрики (CR)\n",
    "- Дисперсию (через дельта-метод)\n",
    "\n",
    "Чтобы определить, **какой минимальный эффект (в процентах)** мы сможем заметить при разных размерах выборки.\n",
    "\n",
    "---\n",
    "\n",
    "### Что учитывается:\n",
    "- `alpha = 0.05` — допустимая вероятность ложноположительной ошибки (тип I)\n",
    "- `beta  = 0.2`  — допустимая вероятность ложноотрицательной ошибки (тип II → мощность теста 80%)\n",
    "- `sample_size` — общее число пользователей (на обе группы)\n",
    "- `n_groups = 2` — контроль и тест"
   ]
  },
  {
   "cell_type": "markdown",
   "id": "9e4594af-6327-43b3-aed8-7b1e3eb50766",
   "metadata": {},
   "source": [
    "### Код: функция расчёта MDE"
   ]
  },
  {
   "cell_type": "code",
   "execution_count": 207,
   "id": "9d75fcc5-4567-426c-b06d-d2d98d8b84bd",
   "metadata": {},
   "outputs": [],
   "source": [
    "from scipy import stats\n",
    "\n",
    "# 📏 Функция расчёта MDE\n",
    "def get_MDE(mu, std, sample_size, n_groups=2, target_share=0.5, r=1, alpha=0.05, beta=0.2):\n",
    "    \"\"\"\n",
    "    Возвращает (MDE в абсолютных пунктах, и в процентах от среднего)\n",
    "    \"\"\"\n",
    "    t_alpha = stats.norm.ppf(1 - alpha / 2)\n",
    "    t_beta = stats.norm.ppf(1 - beta)\n",
    "    sample_ratio_correction = r + 2 + 1/r\n",
    "\n",
    "    mde = np.sqrt(sample_ratio_correction) * (t_alpha + t_beta) * std / np.sqrt(sample_size * (1 - target_share * (1 - r)))\n",
    "    return mde, mde * 100 / mu"
   ]
  },
  {
   "cell_type": "markdown",
   "id": "66c93b32-83a8-455f-9cb3-83e3664133b8",
   "metadata": {},
   "source": [
    "### Код: расчёт таблицы MDE по размерам выборки"
   ]
  },
  {
   "cell_type": "code",
   "execution_count": 209,
   "id": "36064b34-95c0-4786-a409-692b2c6f220e",
   "metadata": {},
   "outputs": [
    {
     "data": {
      "text/html": [
       "<div>\n",
       "<style scoped>\n",
       "    .dataframe tbody tr th:only-of-type {\n",
       "        vertical-align: middle;\n",
       "    }\n",
       "\n",
       "    .dataframe tbody tr th {\n",
       "        vertical-align: top;\n",
       "    }\n",
       "\n",
       "    .dataframe thead th {\n",
       "        text-align: right;\n",
       "    }\n",
       "</style>\n",
       "<table border=\"1\" class=\"dataframe\">\n",
       "  <thead>\n",
       "    <tr style=\"text-align: right;\">\n",
       "      <th></th>\n",
       "      <th>Sample Size (total)</th>\n",
       "      <th>MDE (abs)</th>\n",
       "      <th>MDE (%)</th>\n",
       "    </tr>\n",
       "  </thead>\n",
       "  <tbody>\n",
       "    <tr>\n",
       "      <th>0</th>\n",
       "      <td>500</td>\n",
       "      <td>0.1428</td>\n",
       "      <td>15.06</td>\n",
       "    </tr>\n",
       "    <tr>\n",
       "      <th>1</th>\n",
       "      <td>1000</td>\n",
       "      <td>0.1010</td>\n",
       "      <td>10.65</td>\n",
       "    </tr>\n",
       "    <tr>\n",
       "      <th>2</th>\n",
       "      <td>2000</td>\n",
       "      <td>0.0714</td>\n",
       "      <td>7.53</td>\n",
       "    </tr>\n",
       "    <tr>\n",
       "      <th>3</th>\n",
       "      <td>5000</td>\n",
       "      <td>0.0452</td>\n",
       "      <td>4.76</td>\n",
       "    </tr>\n",
       "    <tr>\n",
       "      <th>4</th>\n",
       "      <td>10000</td>\n",
       "      <td>0.0319</td>\n",
       "      <td>3.37</td>\n",
       "    </tr>\n",
       "    <tr>\n",
       "      <th>5</th>\n",
       "      <td>20000</td>\n",
       "      <td>0.0226</td>\n",
       "      <td>2.38</td>\n",
       "    </tr>\n",
       "    <tr>\n",
       "      <th>6</th>\n",
       "      <td>50000</td>\n",
       "      <td>0.0143</td>\n",
       "      <td>1.51</td>\n",
       "    </tr>\n",
       "    <tr>\n",
       "      <th>7</th>\n",
       "      <td>100000</td>\n",
       "      <td>0.0101</td>\n",
       "      <td>1.06</td>\n",
       "    </tr>\n",
       "    <tr>\n",
       "      <th>8</th>\n",
       "      <td>200000</td>\n",
       "      <td>0.0071</td>\n",
       "      <td>0.75</td>\n",
       "    </tr>\n",
       "  </tbody>\n",
       "</table>\n",
       "</div>"
      ],
      "text/plain": [
       "   Sample Size (total)  MDE (abs)  MDE (%)\n",
       "0                  500     0.1428    15.06\n",
       "1                 1000     0.1010    10.65\n",
       "2                 2000     0.0714     7.53\n",
       "3                 5000     0.0452     4.76\n",
       "4                10000     0.0319     3.37\n",
       "5                20000     0.0226     2.38\n",
       "6                50000     0.0143     1.51\n",
       "7               100000     0.0101     1.06\n",
       "8               200000     0.0071     0.75"
      ]
     },
     "metadata": {},
     "output_type": "display_data"
    }
   ],
   "source": [
    "# 📊 Параметры\n",
    "mu = cr_mean\n",
    "std = np.sqrt(cr_variance)\n",
    "\n",
    "# 🔁 Посчитаем для разных sample_size\n",
    "sample_sizes = [500, 1000, 2000, 5000, 10000, 20000, 50000, 100000, 200000]\n",
    "mde_table = []\n",
    "\n",
    "for size in sample_sizes:\n",
    "    mde_abs, mde_pct = get_MDE(mu=mu, std=std, sample_size=size)\n",
    "    mde_table.append((size, round(mde_abs, 4), round(mde_pct, 2)))\n",
    "\n",
    "# 📋 Преобразуем в DataFrame\n",
    "mde_df = pd.DataFrame(mde_table, columns=['Sample Size (total)', 'MDE (abs)', 'MDE (%)'])\n",
    "display(mde_df)"
   ]
  },
  {
   "cell_type": "markdown",
   "id": "601e5655-860e-4461-8981-dbdfb43976a0",
   "metadata": {},
   "source": [
    "## 📦 Блок 6. Проверка ограничения: можно ли задействовать нужное количество пользователей?\n",
    "\n",
    "---\n",
    "\n",
    "Согласно условиям эксперимента:\n",
    "\n",
    "> 🔒 *Мы можем использовать не более 20% пользователей* для A/B‑теста (включая и тест, и контроль)\n",
    "\n",
    "Наша задача:\n",
    "- Посчитать, **сколько всего уникальных пользователей** у нас есть до эксперимента\n",
    "- Определить, **какое максимальное число** участников мы можем задействовать\n",
    "- Проверить, **хватает ли этого**, чтобы достичь нужного уровня MDE (например, 2.5%)\n",
    "\n",
    "---"
   ]
  },
  {
   "cell_type": "code",
   "execution_count": 211,
   "id": "39cc2287-d19d-47aa-b393-3e63a836fe2c",
   "metadata": {},
   "outputs": [
    {
     "name": "stdout",
     "output_type": "stream",
     "text": [
      "Всего уникальных пользователей: 3,102,736\n",
      "Максимум можно задействовать (20%): 620,547 пользователей\n"
     ]
    }
   ],
   "source": [
    "# 📊 Считаем количество уникальных пользователей до эксперимента\n",
    "unique_users = df_funnel['client_id'].nunique()\n",
    "\n",
    "# 📏 Считаем максимум 20% от них\n",
    "max_allowed = int(unique_users * 0.2)\n",
    "\n",
    "print(f'Всего уникальных пользователей: {unique_users:,}')\n",
    "print(f'Максимум можно задействовать (20%): {max_allowed:,} пользователей')"
   ]
  },
  {
   "cell_type": "markdown",
   "id": "9c4c96cc-4d9d-4500-8ba0-23e540cadcf7",
   "metadata": {},
   "source": [
    "## 📎 Зафиксированные параметры A/B-теста\n",
    "\n",
    "- 📊 **Метрика:** CR = adds / clicks\n",
    "- 🎯 **Среднее CR:** 0.9483\n",
    "- 📈 **Целевой MDE:** 2.38%\n",
    "- 👥 **Размер выборки (общий):** 20,000 пользователей\n",
    "- ⚖ **Распределение по группам:** 10,000 контроль / 10,000 тест\n",
    "- 📆 **Период теста:** 1 неделя (как указано в задании)"
   ]
  },
  {
   "cell_type": "markdown",
   "id": "5942f10d-9d7b-4552-ad96-68d4c10e3c2f",
   "metadata": {},
   "source": [
    "## 📂 Блок 7. Загрузка результатов эксперимента из Excel\n",
    "\n",
    "---\n",
    "\n",
    "### 📄 Источник данных: `final_results_to_analyze.xlsx`\n",
    "\n",
    "Эксперимент длился 1 неделю.  \n",
    "Файл содержит **агрегированные результаты по каждому пользователю на каждый день**.\n",
    "\n",
    "---\n",
    "\n",
    "### 📑 Структура таблицы:\n",
    "| Столбец            | Описание                                         |\n",
    "|--------------------|--------------------------------------------------|\n",
    "| `date`             | Дата                                             |\n",
    "| `client_id`        | Уникальный ID пользователя                       |\n",
    "| `ab_group`         | Группа эксперимента: `control` или `test`        |\n",
    "| `is_view_ads`      | Был ли просмотр рекламного блока                 |\n",
    "| `cnt_view_ads`     | Кол-во просмотров рекламы                        |\n",
    "| `is_adds_ads`      | Было ли добавление товаров из рекламы            |\n",
    "| `cnt_adds_ads`     | Кол-во добавлений                                |\n",
    "| `sum_adds_ads`     | Сумма добавлений в корзину (₽)                   |\n",
    "| `is_orders_ads`    | Был ли заказ после рекламы                       |\n",
    "| `cnt_orders_ads`   | Кол-во заказов                                   |\n",
    "| `sum_orders_ads`   | Сумма заказов из рекламы (₽)                     |\n",
    "\n",
    "---\n",
    "### Код: загрузка Excel и базовая проверка"
   ]
  },
  {
   "cell_type": "code",
   "execution_count": 214,
   "id": "bfe53733-a546-495d-84a0-981cfe6f167f",
   "metadata": {},
   "outputs": [
    {
     "name": "stdout",
     "output_type": "stream",
     "text": [
      "Размер таблицы: (981510, 11)\n"
     ]
    },
    {
     "data": {
      "text/html": [
       "<div>\n",
       "<style scoped>\n",
       "    .dataframe tbody tr th:only-of-type {\n",
       "        vertical-align: middle;\n",
       "    }\n",
       "\n",
       "    .dataframe tbody tr th {\n",
       "        vertical-align: top;\n",
       "    }\n",
       "\n",
       "    .dataframe thead th {\n",
       "        text-align: right;\n",
       "    }\n",
       "</style>\n",
       "<table border=\"1\" class=\"dataframe\">\n",
       "  <thead>\n",
       "    <tr style=\"text-align: right;\">\n",
       "      <th></th>\n",
       "      <th>date</th>\n",
       "      <th>client_id</th>\n",
       "      <th>ab_group</th>\n",
       "      <th>is_view_ads</th>\n",
       "      <th>cnt_view_ads</th>\n",
       "      <th>is_adds_ads</th>\n",
       "      <th>cnt_adds_ads</th>\n",
       "      <th>sum_adds_ads</th>\n",
       "      <th>is_orders_ads</th>\n",
       "      <th>cnt_orders_ads</th>\n",
       "      <th>sum_orders_ads</th>\n",
       "    </tr>\n",
       "  </thead>\n",
       "  <tbody>\n",
       "    <tr>\n",
       "      <th>0</th>\n",
       "      <td>2024-07-26</td>\n",
       "      <td>8881380</td>\n",
       "      <td>test</td>\n",
       "      <td>0</td>\n",
       "      <td>0</td>\n",
       "      <td>0</td>\n",
       "      <td>0</td>\n",
       "      <td>0</td>\n",
       "      <td>0</td>\n",
       "      <td>0</td>\n",
       "      <td>0</td>\n",
       "    </tr>\n",
       "    <tr>\n",
       "      <th>1</th>\n",
       "      <td>2024-07-28</td>\n",
       "      <td>850950385</td>\n",
       "      <td>test</td>\n",
       "      <td>0</td>\n",
       "      <td>0</td>\n",
       "      <td>0</td>\n",
       "      <td>0</td>\n",
       "      <td>0</td>\n",
       "      <td>0</td>\n",
       "      <td>0</td>\n",
       "      <td>0</td>\n",
       "    </tr>\n",
       "    <tr>\n",
       "      <th>2</th>\n",
       "      <td>2024-07-25</td>\n",
       "      <td>50885</td>\n",
       "      <td>control</td>\n",
       "      <td>0</td>\n",
       "      <td>0</td>\n",
       "      <td>0</td>\n",
       "      <td>0</td>\n",
       "      <td>0</td>\n",
       "      <td>0</td>\n",
       "      <td>0</td>\n",
       "      <td>0</td>\n",
       "    </tr>\n",
       "    <tr>\n",
       "      <th>3</th>\n",
       "      <td>2024-07-26</td>\n",
       "      <td>601239</td>\n",
       "      <td>control</td>\n",
       "      <td>0</td>\n",
       "      <td>0</td>\n",
       "      <td>0</td>\n",
       "      <td>0</td>\n",
       "      <td>0</td>\n",
       "      <td>0</td>\n",
       "      <td>0</td>\n",
       "      <td>0</td>\n",
       "    </tr>\n",
       "    <tr>\n",
       "      <th>4</th>\n",
       "      <td>2024-07-28</td>\n",
       "      <td>694655866</td>\n",
       "      <td>control</td>\n",
       "      <td>0</td>\n",
       "      <td>0</td>\n",
       "      <td>0</td>\n",
       "      <td>0</td>\n",
       "      <td>0</td>\n",
       "      <td>0</td>\n",
       "      <td>0</td>\n",
       "      <td>0</td>\n",
       "    </tr>\n",
       "  </tbody>\n",
       "</table>\n",
       "</div>"
      ],
      "text/plain": [
       "        date  client_id ab_group  is_view_ads  cnt_view_ads  is_adds_ads  \\\n",
       "0 2024-07-26    8881380     test            0             0            0   \n",
       "1 2024-07-28  850950385     test            0             0            0   \n",
       "2 2024-07-25      50885  control            0             0            0   \n",
       "3 2024-07-26     601239  control            0             0            0   \n",
       "4 2024-07-28  694655866  control            0             0            0   \n",
       "\n",
       "   cnt_adds_ads  sum_adds_ads  is_orders_ads  cnt_orders_ads  sum_orders_ads  \n",
       "0             0             0              0               0               0  \n",
       "1             0             0              0               0               0  \n",
       "2             0             0              0               0               0  \n",
       "3             0             0              0               0               0  \n",
       "4             0             0              0               0               0  "
      ]
     },
     "execution_count": 214,
     "metadata": {},
     "output_type": "execute_result"
    }
   ],
   "source": [
    "# 📥 Указываем путь к файлу\n",
    "results_path = '/Users/sst/Documents/GitHub/portfolio_ab_testing/AB_Test_Project_Marketplace/final_results_to_analyze.xlsx'\n",
    "\n",
    "# 📖 Читаем Excel\n",
    "df_exp = pd.read_excel(results_path)\n",
    "\n",
    "# 📌 Преобразуем дату в формат datetime\n",
    "df_exp['date'] = pd.to_datetime(df_exp['date'])\n",
    "\n",
    "# 🧼 Проверим размер и первые строки\n",
    "print(f\"Размер таблицы: {df_exp.shape}\")\n",
    "df_exp.head()"
   ]
  },
  {
   "cell_type": "markdown",
   "id": "7049e3ac-2707-400d-ba77-e135ad10c46f",
   "metadata": {},
   "source": [
    "## 🧮 Блок 8. Группировка и агрегация данных по пользователю\n",
    "\n",
    "---\n",
    "\n",
    "### 🗂 Цель блока:\n",
    "Подготовить агрегированные данные **по каждому пользователю**, чтобы на их основе рассчитать ключевые метрики для анализа A/B‑теста (просмотры, добавления в корзину, заказы и т.д.).\n",
    "\n",
    "---\n",
    "\n",
    "### 📝 Что делаем:\n",
    "- Группируем данные по `client_id` и `ab_group`\n",
    "- Суммируем следующие метрики активности за весь период эксперимента:\n",
    "\n",
    "| Показатель           | Описание                                             |\n",
    "|----------------------|------------------------------------------------------|\n",
    "| `is_view_ads`        | Факт просмотра рекламного блока (булевый флаг)      |\n",
    "| `cnt_view_ads`       | Количество просмотров рекламы                       |\n",
    "| `is_adds_ads`        | Было ли добавление товара из рекламы                |\n",
    "| `cnt_adds_ads`       | Количество добавлений в корзину                     |\n",
    "| `sum_adds_ads`       | Сумма добавлений в корзину (₽)                      |\n",
    "| `is_orders_ads`      | Был ли заказ после рекламы                          |\n",
    "| `cnt_orders_ads`     | Количество заказов                                  |\n",
    "| `sum_orders_ads`     | Сумма заказов из рекламы (₽)                        |\n",
    "\n",
    "---\n",
    "\n",
    "### 📦 Результат:\n",
    "На выходе получаем агрегированную таблицу, где **одна строка = один пользователь**, а все активности суммированы за весь период эксперимента."
   ]
  },
  {
   "cell_type": "code",
   "execution_count": 216,
   "id": "dd1a5009-fd09-44ba-ac40-3918eaa0fb83",
   "metadata": {},
   "outputs": [
    {
     "name": "stdout",
     "output_type": "stream",
     "text": [
      "Размер агрегированной таблицы: (401260, 10)\n"
     ]
    },
    {
     "data": {
      "text/html": [
       "<div>\n",
       "<style scoped>\n",
       "    .dataframe tbody tr th:only-of-type {\n",
       "        vertical-align: middle;\n",
       "    }\n",
       "\n",
       "    .dataframe tbody tr th {\n",
       "        vertical-align: top;\n",
       "    }\n",
       "\n",
       "    .dataframe thead th {\n",
       "        text-align: right;\n",
       "    }\n",
       "</style>\n",
       "<table border=\"1\" class=\"dataframe\">\n",
       "  <thead>\n",
       "    <tr style=\"text-align: right;\">\n",
       "      <th></th>\n",
       "      <th>client_id</th>\n",
       "      <th>ab_group</th>\n",
       "      <th>is_view_ads</th>\n",
       "      <th>cnt_view_ads</th>\n",
       "      <th>is_adds_ads</th>\n",
       "      <th>cnt_adds_ads</th>\n",
       "      <th>sum_adds_ads</th>\n",
       "      <th>is_orders_ads</th>\n",
       "      <th>cnt_orders_ads</th>\n",
       "      <th>sum_orders_ads</th>\n",
       "    </tr>\n",
       "  </thead>\n",
       "  <tbody>\n",
       "    <tr>\n",
       "      <th>0</th>\n",
       "      <td>0</td>\n",
       "      <td>control</td>\n",
       "      <td>1</td>\n",
       "      <td>1</td>\n",
       "      <td>0</td>\n",
       "      <td>0</td>\n",
       "      <td>0</td>\n",
       "      <td>0</td>\n",
       "      <td>0</td>\n",
       "      <td>0</td>\n",
       "    </tr>\n",
       "    <tr>\n",
       "      <th>1</th>\n",
       "      <td>0</td>\n",
       "      <td>test</td>\n",
       "      <td>0</td>\n",
       "      <td>0</td>\n",
       "      <td>0</td>\n",
       "      <td>0</td>\n",
       "      <td>0</td>\n",
       "      <td>0</td>\n",
       "      <td>0</td>\n",
       "      <td>0</td>\n",
       "    </tr>\n",
       "    <tr>\n",
       "      <th>2</th>\n",
       "      <td>2</td>\n",
       "      <td>test</td>\n",
       "      <td>0</td>\n",
       "      <td>0</td>\n",
       "      <td>0</td>\n",
       "      <td>0</td>\n",
       "      <td>0</td>\n",
       "      <td>0</td>\n",
       "      <td>0</td>\n",
       "      <td>0</td>\n",
       "    </tr>\n",
       "    <tr>\n",
       "      <th>3</th>\n",
       "      <td>3</td>\n",
       "      <td>control</td>\n",
       "      <td>0</td>\n",
       "      <td>0</td>\n",
       "      <td>0</td>\n",
       "      <td>0</td>\n",
       "      <td>0</td>\n",
       "      <td>0</td>\n",
       "      <td>0</td>\n",
       "      <td>0</td>\n",
       "    </tr>\n",
       "    <tr>\n",
       "      <th>4</th>\n",
       "      <td>4</td>\n",
       "      <td>control</td>\n",
       "      <td>0</td>\n",
       "      <td>0</td>\n",
       "      <td>0</td>\n",
       "      <td>0</td>\n",
       "      <td>0</td>\n",
       "      <td>0</td>\n",
       "      <td>0</td>\n",
       "      <td>0</td>\n",
       "    </tr>\n",
       "  </tbody>\n",
       "</table>\n",
       "</div>"
      ],
      "text/plain": [
       "   client_id ab_group  is_view_ads  cnt_view_ads  is_adds_ads  cnt_adds_ads  \\\n",
       "0          0  control            1             1            0             0   \n",
       "1          0     test            0             0            0             0   \n",
       "2          2     test            0             0            0             0   \n",
       "3          3  control            0             0            0             0   \n",
       "4          4  control            0             0            0             0   \n",
       "\n",
       "   sum_adds_ads  is_orders_ads  cnt_orders_ads  sum_orders_ads  \n",
       "0             0              0               0               0  \n",
       "1             0              0               0               0  \n",
       "2             0              0               0               0  \n",
       "3             0              0               0               0  \n",
       "4             0              0               0               0  "
      ]
     },
     "execution_count": 216,
     "metadata": {},
     "output_type": "execute_result"
    }
   ],
   "source": [
    "# 📊 Агрегируем данные по пользователям\n",
    "df_users = df_exp.groupby(['client_id', 'ab_group'], as_index=False).agg({\n",
    "    'is_view_ads': 'sum',\n",
    "    'cnt_view_ads': 'sum',\n",
    "    'is_adds_ads': 'sum',\n",
    "    'cnt_adds_ads': 'sum',\n",
    "    'sum_adds_ads': 'sum',\n",
    "    'is_orders_ads': 'sum',\n",
    "    'cnt_orders_ads': 'sum',\n",
    "    'sum_orders_ads': 'sum',\n",
    "})\n",
    "\n",
    "# 👁 Проверим размер и первые строки\n",
    "print(f'Размер агрегированной таблицы: {df_users.shape}')\n",
    "df_users.head()"
   ]
  },
  {
   "cell_type": "markdown",
   "id": "d6aaf5bd-ddc4-44b3-9b57-2e597716a915",
   "metadata": {},
   "source": [
    "## 📦 Блок 9. Агрегация активности пользователей\n",
    "\n",
    "---\n",
    "\n",
    "### 🎯 Цель блока:\n",
    "Получить **по одной строке на пользователя**, где агрегирована вся его активность в эксперименте:\n",
    "- просмотры рекламы;\n",
    "- добавления в корзину;\n",
    "- заказы.\n",
    "\n",
    "---\n",
    "\n",
    "### 🔍 Что делаем:\n",
    "- Группируем данные по `client_id` и `ab_group`;\n",
    "- Суммируем показатели активности:\n",
    "  - `is_view_ads`, `cnt_view_ads` — просмотры;\n",
    "  - `is_adds_ads`, `cnt_adds_ads`, `sum_adds_ads` — добавления;\n",
    "  - `is_orders_ads`, `cnt_orders_ads`, `sum_orders_ads` — заказы.\n",
    "\n",
    "---\n",
    "\n",
    "### 📤 Выход:\n",
    "- 📄 Получаем **агрегированную таблицу**: одна строка — один пользователь.\n",
    "- 📊 Размер: **401 260 строк и 10 столбцов**."
   ]
  },
  {
   "cell_type": "code",
   "execution_count": 218,
   "id": "392e16b9-f5d7-4d87-94ba-52c010e557ba",
   "metadata": {},
   "outputs": [
    {
     "name": "stdout",
     "output_type": "stream",
     "text": [
      "Размер агрегированной таблицы: (401260, 10)\n"
     ]
    },
    {
     "data": {
      "text/html": [
       "<div>\n",
       "<style scoped>\n",
       "    .dataframe tbody tr th:only-of-type {\n",
       "        vertical-align: middle;\n",
       "    }\n",
       "\n",
       "    .dataframe tbody tr th {\n",
       "        vertical-align: top;\n",
       "    }\n",
       "\n",
       "    .dataframe thead th {\n",
       "        text-align: right;\n",
       "    }\n",
       "</style>\n",
       "<table border=\"1\" class=\"dataframe\">\n",
       "  <thead>\n",
       "    <tr style=\"text-align: right;\">\n",
       "      <th></th>\n",
       "      <th>client_id</th>\n",
       "      <th>ab_group</th>\n",
       "      <th>is_view_ads</th>\n",
       "      <th>cnt_view_ads</th>\n",
       "      <th>is_adds_ads</th>\n",
       "      <th>cnt_adds_ads</th>\n",
       "      <th>sum_adds_ads</th>\n",
       "      <th>is_orders_ads</th>\n",
       "      <th>cnt_orders_ads</th>\n",
       "      <th>sum_orders_ads</th>\n",
       "    </tr>\n",
       "  </thead>\n",
       "  <tbody>\n",
       "    <tr>\n",
       "      <th>0</th>\n",
       "      <td>0</td>\n",
       "      <td>control</td>\n",
       "      <td>1</td>\n",
       "      <td>1</td>\n",
       "      <td>0</td>\n",
       "      <td>0</td>\n",
       "      <td>0</td>\n",
       "      <td>0</td>\n",
       "      <td>0</td>\n",
       "      <td>0</td>\n",
       "    </tr>\n",
       "    <tr>\n",
       "      <th>1</th>\n",
       "      <td>0</td>\n",
       "      <td>test</td>\n",
       "      <td>0</td>\n",
       "      <td>0</td>\n",
       "      <td>0</td>\n",
       "      <td>0</td>\n",
       "      <td>0</td>\n",
       "      <td>0</td>\n",
       "      <td>0</td>\n",
       "      <td>0</td>\n",
       "    </tr>\n",
       "    <tr>\n",
       "      <th>2</th>\n",
       "      <td>2</td>\n",
       "      <td>test</td>\n",
       "      <td>0</td>\n",
       "      <td>0</td>\n",
       "      <td>0</td>\n",
       "      <td>0</td>\n",
       "      <td>0</td>\n",
       "      <td>0</td>\n",
       "      <td>0</td>\n",
       "      <td>0</td>\n",
       "    </tr>\n",
       "    <tr>\n",
       "      <th>3</th>\n",
       "      <td>3</td>\n",
       "      <td>control</td>\n",
       "      <td>0</td>\n",
       "      <td>0</td>\n",
       "      <td>0</td>\n",
       "      <td>0</td>\n",
       "      <td>0</td>\n",
       "      <td>0</td>\n",
       "      <td>0</td>\n",
       "      <td>0</td>\n",
       "    </tr>\n",
       "    <tr>\n",
       "      <th>4</th>\n",
       "      <td>4</td>\n",
       "      <td>control</td>\n",
       "      <td>0</td>\n",
       "      <td>0</td>\n",
       "      <td>0</td>\n",
       "      <td>0</td>\n",
       "      <td>0</td>\n",
       "      <td>0</td>\n",
       "      <td>0</td>\n",
       "      <td>0</td>\n",
       "    </tr>\n",
       "  </tbody>\n",
       "</table>\n",
       "</div>"
      ],
      "text/plain": [
       "   client_id ab_group  is_view_ads  cnt_view_ads  is_adds_ads  cnt_adds_ads  \\\n",
       "0          0  control            1             1            0             0   \n",
       "1          0     test            0             0            0             0   \n",
       "2          2     test            0             0            0             0   \n",
       "3          3  control            0             0            0             0   \n",
       "4          4  control            0             0            0             0   \n",
       "\n",
       "   sum_adds_ads  is_orders_ads  cnt_orders_ads  sum_orders_ads  \n",
       "0             0              0               0               0  \n",
       "1             0              0               0               0  \n",
       "2             0              0               0               0  \n",
       "3             0              0               0               0  \n",
       "4             0              0               0               0  "
      ]
     },
     "execution_count": 218,
     "metadata": {},
     "output_type": "execute_result"
    }
   ],
   "source": [
    "# 📊 Агрегируем данные по пользователям\n",
    "df_users = df_exp.groupby(['client_id', 'ab_group'], as_index=False).agg({\n",
    "    'is_view_ads': 'sum',\n",
    "    'cnt_view_ads': 'sum',\n",
    "    'is_adds_ads': 'sum',\n",
    "    'cnt_adds_ads': 'sum',\n",
    "    'sum_adds_ads': 'sum',\n",
    "    'is_orders_ads': 'sum',\n",
    "    'cnt_orders_ads': 'sum',\n",
    "    'sum_orders_ads': 'sum',\n",
    "})\n",
    "\n",
    "# 👁 Проверим размер и первые строки\n",
    "print(f'Размер агрегированной таблицы: {df_users.shape}')\n",
    "df_users.head()"
   ]
  },
  {
   "cell_type": "markdown",
   "id": "060aa8be-755c-4fa0-b0bf-88b61f6b43f7",
   "metadata": {},
   "source": [
    "## 📊 Блок 4. Сравнение конверсий по этапам (A vs B)\n",
    "\n",
    "**Цель:**  \n",
    "Построить сравнительный график ключевых конверсий между тестовой и контрольной группами, чтобы увидеть, на каких этапах воронки наблюдается наибольший эффект.\n",
    "\n",
    "**Метрики:**\n",
    "- **CTR (clicks/views)** — кликабельность рекламного блока.\n",
    "- **CR (adds/views)** — конверсия в добавление в корзину от просмотра рекламы.\n",
    "- **CR (orders/views)** — конверсия в заказ от просмотра рекламы.\n",
    "- **CR (orders/adds)** — конверсия в заказ от добавления в корзину.\n",
    "\n",
    "**Выводы, которые ожидаем получить:**\n",
    "1. На каких шагах разница между группами максимальна.\n",
    "2. Является ли эффект рекламы ростом вовлечённости или продаж.\n",
    "3. Логическая основа для выводов в слайде 7 презентации."
   ]
  },
  {
   "cell_type": "code",
   "execution_count": 229,
   "id": "97603367-cd1e-4cbd-8ca8-55dd7d669e9c",
   "metadata": {},
   "outputs": [
    {
     "data": {
      "image/png": "[encoded data removed]",
      "text/plain": [
       "<Figure size 900x500 with 1 Axes>"
      ]
     },
     "metadata": {},
     "output_type": "display_data"
    }
   ],
   "source": [
    "import numpy as np\n",
    "import pandas as pd\n",
    "import matplotlib.pyplot as plt\n",
    "\n",
    "# Используем df_exp — загруженный из final_results_to_analyze.xlsx\n",
    "agg = (df_exp\n",
    "       .groupby(['ab_group','client_id'], as_index=False)\n",
    "       .agg(views=('cnt_view_ads','sum'),\n",
    "            adds=('cnt_adds_ads','sum'),\n",
    "            orders=('cnt_orders_ads','sum'))\n",
    "      )\n",
    "\n",
    "# Проверим наличие кликов в данных\n",
    "has_clicks = 'cnt_click_ads' in df_exp.columns\n",
    "if has_clicks:\n",
    "    clicks_user = (df_exp\n",
    "                   .groupby(['ab_group','client_id'], as_index=False)\n",
    "                   .agg(clicks=('cnt_click_ads','sum')))\n",
    "    agg = agg.merge(clicks_user, on=['ab_group','client_id'], how='left').fillna({'clicks':0})\n",
    "\n",
    "# Функция для безопасного деления\n",
    "def safe_div(x, y):\n",
    "    return np.where(y > 0, x / y, np.nan)\n",
    "\n",
    "# Расчёт метрик по пользователю\n",
    "if has_clicks:\n",
    "    agg['CTR (clicks/views)'] = safe_div(agg['clicks'], agg['views'])\n",
    "agg['CR (adds/views)']   = safe_div(agg['adds'],   agg['views'])\n",
    "agg['CR (orders/views)'] = safe_div(agg['orders'], agg['views'])\n",
    "agg['CR (orders/adds)']  = safe_div(agg['orders'], agg['adds'])\n",
    "\n",
    "# Средние значения по группам\n",
    "summary = agg.groupby('ab_group').mean(numeric_only=True)\n",
    "\n",
    "# Подготовка данных для графика\n",
    "metrics_to_plot = ['CR (adds/views)', 'CR (orders/views)', 'CR (orders/adds)']\n",
    "if has_clicks:\n",
    "    metrics_to_plot = ['CTR (clicks/views)'] + metrics_to_plot\n",
    "\n",
    "plot_df = summary[metrics_to_plot].T\n",
    "plot_df.columns.name = None\n",
    "\n",
    "# Построение bar-чарта\n",
    "plt.figure(figsize=(9, 5))\n",
    "x = np.arange(len(plot_df.index))\n",
    "width = 0.35\n",
    "\n",
    "for i, group in enumerate(plot_df.columns):\n",
    "    plt.bar(x + (i - 0.5) * width, plot_df[group] * 100, width, label=f'Группа {group}')\n",
    "\n",
    "plt.xticks(x, plot_df.index, rotation=0)\n",
    "plt.ylabel('Доля, %')\n",
    "plt.title('Сравнение конверсий по этапам (A vs B)')\n",
    "plt.legend(frameon=False)\n",
    "plt.grid(axis='y', linestyle=':', linewidth=0.6)\n",
    "\n",
    "# Подписи процентов\n",
    "for i, group in enumerate(plot_df.columns):\n",
    "    vals = plot_df[group].values\n",
    "    for xi, v in zip(x, vals):\n",
    "        if not np.isnan(v):\n",
    "            plt.text(xi + (i - 0.5) * width, v*100, f'{v*100:.1f}%', ha='center', va='bottom', fontsize=9)\n",
    "\n",
    "plt.tight_layout()\n",
    "plt.savefig('slide7_conversions_A_vs_B.png', dpi=200, bbox_inches='tight')\n",
    "plt.show()"
   ]
  },
  {
   "cell_type": "markdown",
   "id": "ebb367e9-a928-4e17-89bb-a58212c14682",
   "metadata": {},
   "source": [
    "## 📦 Блок 10. Расчет метрик активности по группам A/B‑теста\n",
    "\n",
    "---\n",
    "\n",
    "### 🎯 Цель блока:\n",
    "Оценить поведение пользователей в эксперименте: **насколько эффективнее была реклама** в тестовой группе по сравнению с контрольной.\n",
    "\n",
    "---\n",
    "\n",
    "### 🔍 Что делаем:\n",
    "- Группируем агрегированные данные (`df_users`) по `ab_group`.\n",
    "- Считаем средние значения (`mean`) по каждому показателю активности:\n",
    "  - Просмотры: `is_view_ads`, `cnt_view_ads`\n",
    "  - Добавления в корзину: `is_adds_ads`, `cnt_adds_ads`, `sum_adds_ads`\n",
    "  - Заказы: `is_orders_ads`, `cnt_orders_ads`, `sum_orders_ads`\n",
    "\n",
    "---\n",
    "\n",
    "### 📤 Выход:\n",
    "- 📊 Таблица с **средними значениями метрик по группам**.\n",
    "- Используется для **сравнительного анализа эффективности рекламы**."
   ]
  },
  {
   "cell_type": "code",
   "execution_count": null,
   "id": "aa0ec09d-c79a-43b9-81e2-440e7fbc9e9d",
   "metadata": {},
   "outputs": [],
   "source": [
    "# 📈 Считаем средние метрики активности по группам\n",
    "ab_metrics = df_users.groupby('ab_group').mean(numeric_only=True).reset_index()\n",
    "\n",
    "# 👁 Смотрим результат\n",
    "print(f'Размер итоговой таблицы метрик: {ab_metrics.shape}')\n",
    "ab_metrics"
   ]
  },
  {
   "cell_type": "markdown",
   "id": "1d5fc87a-9a21-4776-aaec-983aa149a9c4",
   "metadata": {},
   "source": [
    "## 📦 Блок 11. Расчет uplift по метрикам\n",
    "\n",
    "---\n",
    "\n",
    "### 🎯 Цель блока:\n",
    "Определить, **насколько повлияло рекламное воздействие** на поведение пользователей — в процентах относительно контрольной группы.\n",
    "\n",
    "Uplift — это относительное изменение метрики в тестовой группе по сравнению с контрольной:\n",
    "> \\[\n",
    "Uplift = \\frac{Metric_{test} - Metric_{control}}{Metric_{control}} \\times 100\\%\n",
    "\\]\n",
    "\n",
    "---\n",
    "\n",
    "### 🔍 Что делаем:\n",
    "- Выделяем метрики по контрольной и тестовой группе.\n",
    "- Считаем uplift по каждой метрике:\n",
    "  - Просмотры (`is_view_ads`, `cnt_view_ads`)\n",
    "  - Добавления в корзину (`is_adds_ads`, `cnt_adds_ads`, `sum_adds_ads`)\n",
    "  - Заказы (`is_orders_ads`, `cnt_orders_ads`, `sum_orders_ads`)\n",
    "\n",
    "---\n",
    "\n",
    "### 📤 Выход:\n",
    "- 📈 Таблица с **% изменений (uplift)** для всех ключевых метрик.\n",
    "- Основа для принятия решения о результативности кампании."
   ]
  },
  {
   "cell_type": "code",
   "execution_count": null,
   "id": "01293bc2-5a27-407c-aee6-5b94419a973b",
   "metadata": {},
   "outputs": [],
   "source": [
    "# 📊 Uplift-метрики: относительное изменение тестовой группы к контрольной\n",
    "\n",
    "# 1. Извлекаем строки по группам\n",
    "control_metrics = ab_metrics[ab_metrics['ab_group'] == 'control'].iloc[0, 1:]\n",
    "test_metrics = ab_metrics[ab_metrics['ab_group'] == 'test'].iloc[0, 1:]\n",
    "\n",
    "# 2. Считаем uplift в процентах\n",
    "uplift = ((test_metrics - control_metrics) / control_metrics * 100).round(2)\n",
    "\n",
    "# 3. Собираем в DataFrame\n",
    "uplift_df = pd.DataFrame({\n",
    "    'metric': uplift.index,\n",
    "    'uplift_%': uplift.values\n",
    "})\n",
    "\n",
    "# 4. Отображаем\n",
    "print(\"Uplift по метрикам (%):\")\n",
    "display(uplift_df)"
   ]
  },
  {
   "cell_type": "markdown",
   "id": "f2f5def8-ed88-40f7-9fea-c8fb2867786a",
   "metadata": {},
   "source": [
    "## 📦 Блок 12. Визуализация uplift-метрик\n",
    "\n",
    "### 🎯 Цель блока:\n",
    "Наглядно представить относительное изменение метрик активности пользователей в тестовой группе по сравнению с контрольной (uplift), чтобы быстро выявить, какие действия усилились благодаря рекламной кампании.\n",
    "\n",
    "---\n",
    "\n",
    "### 🔍 Что делаем:\n",
    "- Используем ранее сформированную таблицу `uplift_df` с процентным изменением метрик.\n",
    "- Исключаем вспомогательные метрики, не отражающие поведение (`client_id`).\n",
    "- Строим горизонтальный bar chart:\n",
    "  - По оси **X** — процентный uplift.\n",
    "  - По оси **Y** — названия метрик.\n",
    "  - Цветовая шкала указывает на направление изменения (рост/падение).\n",
    "- Добавляем вертикальную линию на отметке `0`, чтобы визуально отделить метрики с положительным и отрицательным эффектом.\n",
    "\n",
    "---\n",
    "\n",
    "### 📤 Выходной результат:\n",
    "- График с **визуализацией uplift-метрик**, показывающий, насколько изменилась активность пользователей по каждому поведенческому показателю.\n",
    "- Используется для:\n",
    "  - Быстрой интерпретации результатов A/B‑теста.\n",
    "  - Принятия решений о дальнейшем использовании рекламных механик."
   ]
  },
  {
   "cell_type": "code",
   "execution_count": null,
   "id": "ed2cfbd4-7d51-4e66-8574-fa8d7407c66c",
   "metadata": {},
   "outputs": [],
   "source": [
    "import seaborn as sns\n",
    "import matplotlib.pyplot as plt\n",
    "\n",
    "# Отфильтровываем client_id, так как это ID, а не метрика\n",
    "filtered_uplift_df = uplift_df[uplift_df['metric'] != 'client_id']\n",
    "\n",
    "# Строим barplot БЕЗ palette — устраняет предупреждение FutureWarning\n",
    "sns.barplot(\n",
    "    data=filtered_uplift_df,\n",
    "    x='uplift_%',\n",
    "    y='metric'\n",
    ")\n",
    "\n",
    "# Оформление графика\n",
    "plt.title('Uplift по метрикам (%)')\n",
    "plt.xlabel('Uplift (%)')\n",
    "plt.ylabel('Метрика')\n",
    "plt.tight_layout()\n",
    "plt.show()"
   ]
  },
  {
   "cell_type": "markdown",
   "id": "0a8c9c74-a434-486e-9bc3-9ec39b62a937",
   "metadata": {},
   "source": [
    "## 📊 Финальные выводы и рекомендации\n",
    "\n",
    "### 🧩 1. Общий итог анализа\n",
    "\n",
    "В ходе A/B‑теста проанализировано поведение пользователей контрольной и экспериментальной групп. Расчёт `uplift (%)` по ключевым метрикам позволил оценить эффективность рекламной кампании.\n",
    "\n",
    "---\n",
    "\n",
    "### 📈 2. Основные наблюдения\n",
    "\n",
    "- 📦 **Максимальный uplift** зафиксирован по метрикам заказов:\n",
    "  - `sum_orders_ads`: **+6.3%**\n",
    "  - `cnt_orders_ads`: **+5.6%**\n",
    "\n",
    "- 🛒 Умеренный прирост по метрикам добавления в корзину:\n",
    "  - `cnt_adds_ads`: **+3.6%**\n",
    "  - `sum_adds_ads`: **+2.7%**\n",
    "\n",
    "- 👁️ **Минимальный uplift** по просмотрам:\n",
    "  - `is_view_ads`, `cnt_view_ads`, `is_adds_ads` — ниже **1%**\n",
    "\n",
    "---\n",
    "\n",
    "### 📌 3. Интерпретация результатов\n",
    "\n",
    "| Метрики         | Интерпретация |\n",
    "|------------------|---------------|\n",
    "| **Заказы**       | Кампания стимулировала большее число заказов и увеличила средний чек. |\n",
    "| **Добавления**   | Увеличилось число добавлений товаров в корзину, но не все переходят к покупке. |\n",
    "| **Просмотры**    | Реклама не повлияла на просмотры — требует доработки креативов и каналов показа. |\n",
    "\n",
    "---\n",
    "\n",
    "### 📢 4. Рекомендации\n",
    "\n",
    "- 💰 **Оптимизировать расходы** на рекламу — усилить успешные каналы.\n",
    "- 🧪 **Протестировать креативы** — текущие баннеры плохо мотивируют на взаимодействие.\n",
    "- 📲 **Упростить UX корзины и оформления заказа** — повысить конверсию.\n",
    "- 👥 **Углубить сегментацию** — протестировать uplift в разрезе сегментов (география, возраст и пр.).\n",
    "- ⏰ **Анализ по времени** — определить часы и дни с максимальной эффективностью.\n",
    "\n",
    "---\n",
    "\n",
    "### ✅ 5. Общий вывод\n",
    "\n",
    "Рекламная кампания **показала положительный uplift по ключевым бизнес-метрикам**. Она доказала свою эффективность, особенно на финальных этапах воронки.  \n",
    "Для повышения ROI — сосредоточиться на усилении эффективных каналов, устранении барьеров в покупке и улучшении рекламных материалов."
   ]
  },
  {
   "cell_type": "code",
   "execution_count": null,
   "id": "2b8a9d60-d325-444c-9376-63555cacc28d",
   "metadata": {},
   "outputs": [],
   "source": []
  }
 ],
 "metadata": {
  "kernelspec": {
   "display_name": "Python [conda env:base] *",
   "language": "python",
   "name": "conda-base-py"
  },
  "language_info": {
   "codemirror_mode": {
    "name": "ipython",
    "version": 3
   },
   "file_extension": ".py",
   "mimetype": "text/x-python",
   "name": "python",
   "nbconvert_exporter": "python",
   "pygments_lexer": "ipython3",
   "version": "3.12.7"
  }
 },
 "nbformat": 4,
 "nbformat_minor": 5
}
